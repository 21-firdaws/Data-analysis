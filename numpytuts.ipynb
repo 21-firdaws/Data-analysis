{
 "cells": [
  {
   "cell_type": "code",
   "execution_count": 1,
   "id": "bab0b02b-9080-475e-a5a0-e21100c2b27a",
   "metadata": {},
   "outputs": [
    {
     "name": "stdout",
     "output_type": "stream",
     "text": [
      "Retrieving notices: done\n",
      "Channels:\n",
      " - defaults\n",
      "Platform: win-64\n",
      "Collecting package metadata (repodata.json): ...working... done\n",
      "Solving environment: ...working... done\n",
      "\n",
      "## Package Plan ##\n",
      "\n",
      "  environment location: C:\\Users\\coderF\\anaconda3\\envs\\py3_ipykernel\n",
      "\n",
      "  added / updated specs:\n",
      "    - numpy\n",
      "\n",
      "\n",
      "The following packages will be downloaded:\n",
      "\n",
      "    package                    |            build\n",
      "    ---------------------------|-----------------\n",
      "    mkl_fft-1.3.11             |  py312h827c3e9_0         169 KB\n",
      "    mkl_random-1.2.8           |  py312h0158946_0         252 KB\n",
      "    numpy-2.1.3                |  py312hfd52020_0          12 KB\n",
      "    numpy-base-2.1.3           |  py312h4dde369_0         8.7 MB\n",
      "    setuptools-72.1.0          |  py312haa95532_0         2.9 MB\n",
      "    ------------------------------------------------------------\n",
      "                                           Total:        12.0 MB\n",
      "\n",
      "The following NEW packages will be INSTALLED:\n",
      "\n",
      "  blas               pkgs/main/win-64::blas-1.0-mkl \n",
      "  intel-openmp       pkgs/main/win-64::intel-openmp-2023.1.0-h59b6b97_46320 \n",
      "  mkl                pkgs/main/win-64::mkl-2023.1.0-h6b88ed4_46358 \n",
      "  mkl-service        pkgs/main/win-64::mkl-service-2.4.0-py312h2bbff1b_1 \n",
      "  mkl_fft            pkgs/main/win-64::mkl_fft-1.3.11-py312h827c3e9_0 \n",
      "  mkl_random         pkgs/main/win-64::mkl_random-1.2.8-py312h0158946_0 \n",
      "  numpy              pkgs/main/win-64::numpy-2.1.3-py312hfd52020_0 \n",
      "  numpy-base         pkgs/main/win-64::numpy-base-2.1.3-py312h4dde369_0 \n",
      "  tbb                pkgs/main/win-64::tbb-2021.8.0-h59b6b97_0 \n",
      "\n",
      "The following packages will be DOWNGRADED:\n",
      "\n",
      "  setuptools                         75.1.0-py312haa95532_0 --> 72.1.0-py312haa95532_0 \n",
      "\n",
      "\n",
      "\n",
      "Downloading and Extracting Packages: ...working...\n",
      "numpy-base-2.1.3     | 8.7 MB    |            |   0% \n",
      "\n",
      "setuptools-72.1.0    | 2.9 MB    |            |   0% \u001b[A\n",
      "\n",
      "\n",
      "mkl_random-1.2.8     | 252 KB    |            |   0% \u001b[A\u001b[A\n",
      "\n",
      "\n",
      "\n",
      "mkl_fft-1.3.11       | 169 KB    |            |   0% \u001b[A\u001b[A\u001b[A\n",
      "\n",
      "\n",
      "\n",
      "\n",
      "numpy-2.1.3          | 12 KB     |            |   0% \u001b[A\u001b[A\u001b[A\u001b[A\n",
      "\n",
      "\n",
      "mkl_random-1.2.8     | 252 KB    | 6          |   6% \u001b[A\u001b[A\n",
      "\n",
      "\n",
      "\n",
      "\n",
      "numpy-2.1.3          | 12 KB     | ########## | 100% \u001b[A\u001b[A\u001b[A\u001b[A\n",
      "\n",
      "\n",
      "\n",
      "mkl_fft-1.3.11       | 169 KB    | 9          |   9% \u001b[A\u001b[A\u001b[A\n",
      "\n",
      "\n",
      "\n",
      "\n",
      "numpy-2.1.3          | 12 KB     | ########## | 100% \u001b[A\u001b[A\u001b[A\u001b[A\n",
      "\n",
      "\n",
      "mkl_random-1.2.8     | 252 KB    | #######6   |  76% \u001b[A\u001b[A\n",
      "\n",
      "\n",
      "mkl_random-1.2.8     | 252 KB    | ########## | 100% \u001b[A\u001b[A\n",
      "\n",
      "setuptools-72.1.0    | 2.9 MB    |            |   1% \u001b[A\n",
      "\n",
      "\n",
      "\n",
      "mkl_fft-1.3.11       | 169 KB    | ########## | 100% \u001b[A\u001b[A\u001b[A\n",
      "numpy-base-2.1.3     | 8.7 MB    |            |   0% \n",
      "\n",
      "\n",
      "\n",
      "\n",
      "numpy-2.1.3          | 12 KB     | ########## | 100% \u001b[A\u001b[A\u001b[A\u001b[A\n",
      "\n",
      "setuptools-72.1.0    | 2.9 MB    | 1          |   2% \u001b[A\n",
      "numpy-base-2.1.3     | 8.7 MB    |            |   1% \n",
      "\n",
      "setuptools-72.1.0    | 2.9 MB    | 3          |   4% \u001b[A\n",
      "\n",
      "\n",
      "mkl_random-1.2.8     | 252 KB    | ########## | 100% \u001b[A\u001b[A\n",
      "\n",
      "\n",
      "\n",
      "mkl_fft-1.3.11       | 169 KB    | ########## | 100% \u001b[A\u001b[A\u001b[A\n",
      "\n",
      "\n",
      "\n",
      "mkl_fft-1.3.11       | 169 KB    | ########## | 100% \u001b[A\u001b[A\u001b[A\n",
      "\n",
      "setuptools-72.1.0    | 2.9 MB    | 5          |   5% \u001b[A\n",
      "numpy-base-2.1.3     | 8.7 MB    | 1          |   1% \n",
      "numpy-base-2.1.3     | 8.7 MB    | 1          |   2% \n",
      "\n",
      "setuptools-72.1.0    | 2.9 MB    | 9          |   9% \u001b[A\n",
      "numpy-base-2.1.3     | 8.7 MB    | 4          |   4% \n",
      "\n",
      "setuptools-72.1.0    | 2.9 MB    | #2         |  13% \u001b[A\n",
      "\n",
      "setuptools-72.1.0    | 2.9 MB    | #5         |  15% \u001b[A\n",
      "numpy-base-2.1.3     | 8.7 MB    | 5          |   5% \n",
      "numpy-base-2.1.3     | 8.7 MB    | 6          |   6% \n",
      "numpy-base-2.1.3     | 8.7 MB    | 8          |   9% \n",
      "\n",
      "setuptools-72.1.0    | 2.9 MB    | #7         |  18% \u001b[A\n",
      "numpy-base-2.1.3     | 8.7 MB    | 9          |  10% \n",
      "numpy-base-2.1.3     | 8.7 MB    | #4         |  14% \n",
      "\n",
      "setuptools-72.1.0    | 2.9 MB    | ##1        |  22% \u001b[A\n",
      "numpy-base-2.1.3     | 8.7 MB    | #5         |  16% \n",
      "\n",
      "setuptools-72.1.0    | 2.9 MB    | ##3        |  23% \u001b[A\n",
      "numpy-base-2.1.3     | 8.7 MB    | #6         |  17% \n",
      "\n",
      "setuptools-72.1.0    | 2.9 MB    | ##7        |  27% \u001b[A\n",
      "numpy-base-2.1.3     | 8.7 MB    | ##2        |  22% \n",
      "\n",
      "setuptools-72.1.0    | 2.9 MB    | ###2       |  33% \u001b[A\n",
      "\n",
      "setuptools-72.1.0    | 2.9 MB    | ###5       |  36% \u001b[A\n",
      "numpy-base-2.1.3     | 8.7 MB    | ##4        |  25% \n",
      "\n",
      "setuptools-72.1.0    | 2.9 MB    | ###8       |  39% \u001b[A\n",
      "numpy-base-2.1.3     | 8.7 MB    | ##6        |  26% \n",
      "\n",
      "setuptools-72.1.0    | 2.9 MB    | ####5      |  45% \u001b[A\n",
      "numpy-base-2.1.3     | 8.7 MB    | ##8        |  28% \n",
      "\n",
      "setuptools-72.1.0    | 2.9 MB    | ####9      |  50% \u001b[A\n",
      "numpy-base-2.1.3     | 8.7 MB    | ##9        |  30% \n",
      "\n",
      "setuptools-72.1.0    | 2.9 MB    | #####3     |  53% \u001b[A\n",
      "\n",
      "setuptools-72.1.0    | 2.9 MB    | #####7     |  57% \u001b[A\n",
      "\n",
      "setuptools-72.1.0    | 2.9 MB    | ######     |  60% \u001b[A\n",
      "numpy-base-2.1.3     | 8.7 MB    | ###1       |  31% \n",
      "\n",
      "setuptools-72.1.0    | 2.9 MB    | ######3    |  63% \u001b[A\n",
      "numpy-base-2.1.3     | 8.7 MB    | ###5       |  35% \n",
      "\n",
      "setuptools-72.1.0    | 2.9 MB    | ######6    |  66% \u001b[A\n",
      "\n",
      "setuptools-72.1.0    | 2.9 MB    | ######9    |  69% \u001b[A\n",
      "\n",
      "setuptools-72.1.0    | 2.9 MB    | #######1   |  72% \u001b[A\n",
      "numpy-base-2.1.3     | 8.7 MB    | ###6       |  37% \n",
      "numpy-base-2.1.3     | 8.7 MB    | ###9       |  39% \n",
      "\n",
      "setuptools-72.1.0    | 2.9 MB    | #######9   |  79% \u001b[A\n",
      "numpy-base-2.1.3     | 8.7 MB    | ####       |  41% \n",
      "\n",
      "setuptools-72.1.0    | 2.9 MB    | ########3  |  84% \u001b[A\n",
      "numpy-base-2.1.3     | 8.7 MB    | ####2      |  42% \n",
      "numpy-base-2.1.3     | 8.7 MB    | ####3      |  43% \n",
      "\n",
      "setuptools-72.1.0    | 2.9 MB    | ########5  |  86% \u001b[A\n",
      "\n",
      "setuptools-72.1.0    | 2.9 MB    | #########2 |  93% \u001b[A\n",
      "numpy-base-2.1.3     | 8.7 MB    | ####5      |  46% \n",
      "\n",
      "setuptools-72.1.0    | 2.9 MB    | #########5 |  95% \u001b[A\n",
      "numpy-base-2.1.3     | 8.7 MB    | ####6      |  47% \n",
      "numpy-base-2.1.3     | 8.7 MB    | ####7      |  48% \n",
      "\n",
      "setuptools-72.1.0    | 2.9 MB    | #########7 |  97% \u001b[A\n",
      "numpy-base-2.1.3     | 8.7 MB    | ####8      |  49% \n",
      "numpy-base-2.1.3     | 8.7 MB    | #####      |  51% \n",
      "\n",
      "setuptools-72.1.0    | 2.9 MB    | #########8 |  99% \u001b[A\n",
      "\n",
      "setuptools-72.1.0    | 2.9 MB    | ########## | 100% \u001b[A\n",
      "numpy-base-2.1.3     | 8.7 MB    | #####1     |  52% \n",
      "numpy-base-2.1.3     | 8.7 MB    | #####2     |  53% \n",
      "numpy-base-2.1.3     | 8.7 MB    | #####5     |  56% \n",
      "numpy-base-2.1.3     | 8.7 MB    | #####7     |  57% \n",
      "numpy-base-2.1.3     | 8.7 MB    | #####8     |  59% \n",
      "numpy-base-2.1.3     | 8.7 MB    | #####9     |  60% \n",
      "numpy-base-2.1.3     | 8.7 MB    | ######     |  61% \n",
      "numpy-base-2.1.3     | 8.7 MB    | ######2    |  63% \n",
      "numpy-base-2.1.3     | 8.7 MB    | ######5    |  65% \n",
      "numpy-base-2.1.3     | 8.7 MB    | ######7    |  67% \n",
      "numpy-base-2.1.3     | 8.7 MB    | ######8    |  68% \n",
      "numpy-base-2.1.3     | 8.7 MB    | ######9    |  70% \n",
      "numpy-base-2.1.3     | 8.7 MB    | #######    |  71% \n",
      "numpy-base-2.1.3     | 8.7 MB    | #######1   |  72% \n",
      "numpy-base-2.1.3     | 8.7 MB    | #######2   |  73% \n",
      "numpy-base-2.1.3     | 8.7 MB    | #######3   |  74% \n",
      "numpy-base-2.1.3     | 8.7 MB    | #######4   |  75% \n",
      "numpy-base-2.1.3     | 8.7 MB    | #######5   |  76% \n",
      "numpy-base-2.1.3     | 8.7 MB    | #######6   |  77% \n",
      "numpy-base-2.1.3     | 8.7 MB    | #######7   |  78% \n",
      "numpy-base-2.1.3     | 8.7 MB    | #######8   |  78% \n",
      "numpy-base-2.1.3     | 8.7 MB    | #######9   |  79% \n",
      "numpy-base-2.1.3     | 8.7 MB    | #######9   |  80% \n",
      "\n",
      "setuptools-72.1.0    | 2.9 MB    | ########## | 100% \u001b[A\n",
      "\n",
      "setuptools-72.1.0    | 2.9 MB    | ########## | 100% \u001b[A\n",
      "numpy-base-2.1.3     | 8.7 MB    | ########   |  81% \n",
      "numpy-base-2.1.3     | 8.7 MB    | ########1  |  81% \n",
      "numpy-base-2.1.3     | 8.7 MB    | ########2  |  82% \n",
      "numpy-base-2.1.3     | 8.7 MB    | ########2  |  83% \n",
      "numpy-base-2.1.3     | 8.7 MB    | ########3  |  84% \n",
      "numpy-base-2.1.3     | 8.7 MB    | ########4  |  84% \n",
      "numpy-base-2.1.3     | 8.7 MB    | ########5  |  85% \n",
      "numpy-base-2.1.3     | 8.7 MB    | ########5  |  86% \n",
      "numpy-base-2.1.3     | 8.7 MB    | ########6  |  87% \n",
      "numpy-base-2.1.3     | 8.7 MB    | ########7  |  87% \n",
      "numpy-base-2.1.3     | 8.7 MB    | ########7  |  88% \n",
      "numpy-base-2.1.3     | 8.7 MB    | ########8  |  89% \n",
      "numpy-base-2.1.3     | 8.7 MB    | ########9  |  89% \n",
      "numpy-base-2.1.3     | 8.7 MB    | #########  |  90% \n",
      "numpy-base-2.1.3     | 8.7 MB    | #########1 |  91% \n",
      "numpy-base-2.1.3     | 8.7 MB    | #########1 |  92% \n",
      "numpy-base-2.1.3     | 8.7 MB    | #########2 |  93% \n",
      "numpy-base-2.1.3     | 8.7 MB    | #########3 |  94% \n",
      "numpy-base-2.1.3     | 8.7 MB    | #########4 |  94% \n",
      "numpy-base-2.1.3     | 8.7 MB    | #########5 |  95% \n",
      "numpy-base-2.1.3     | 8.7 MB    | #########6 |  96% \n",
      "numpy-base-2.1.3     | 8.7 MB    | #########6 |  97% \n",
      "numpy-base-2.1.3     | 8.7 MB    | #########8 |  98% \n",
      "numpy-base-2.1.3     | 8.7 MB    | #########9 |  99% \n",
      "numpy-base-2.1.3     | 8.7 MB    | ########## | 100% \n",
      "numpy-base-2.1.3     | 8.7 MB    | ########## | 100% \n",
      "numpy-base-2.1.3     | 8.7 MB    | ########## | 100% \n",
      "                                                     \n",
      "\n",
      "\n",
      "                                                     \u001b[A\n",
      "\n",
      "\n",
      "                                                     \u001b[A\u001b[A\n",
      "\n",
      "\n",
      "\n",
      "                                                     \u001b[A\u001b[A\u001b[A\n",
      "\n",
      "\n",
      "\n",
      "\n",
      "                                                     \u001b[A\u001b[A\u001b[A\u001b[A done\n",
      "Preparing transaction: done\n",
      "Verifying transaction: done\n",
      "Executing transaction: done\n",
      "\n",
      "Note: you may need to restart the kernel to use updated packages.\n"
     ]
    }
   ],
   "source": [
    "conda install numpy"
   ]
  },
  {
   "cell_type": "code",
   "execution_count": 1,
   "id": "30e672c2-700e-48ba-b62c-6b9f4b30e296",
   "metadata": {},
   "outputs": [],
   "source": [
    "import numpy as np"
   ]
  },
  {
   "cell_type": "code",
   "execution_count": 3,
   "id": "6848644c-5b03-49a6-86ac-49c4cc0bfffc",
   "metadata": {},
   "outputs": [],
   "source": [
    "my_list=[1,2,3,4,5]\n",
    "arr=np.array(my_list)"
   ]
  },
  {
   "cell_type": "code",
   "execution_count": 5,
   "id": "6875c8fd-fb2a-461f-9247-26aa10fec951",
   "metadata": {},
   "outputs": [
    {
     "data": {
      "text/plain": [
       "numpy.ndarray"
      ]
     },
     "execution_count": 5,
     "metadata": {},
     "output_type": "execute_result"
    }
   ],
   "source": [
    "type(arr)"
   ]
  },
  {
   "cell_type": "code",
   "execution_count": 11,
   "id": "de568c9f-f0a8-4f46-ac61-596e0f13ec5f",
   "metadata": {},
   "outputs": [
    {
     "data": {
      "text/plain": [
       "array([1, 2, 3, 4, 5])"
      ]
     },
     "execution_count": 11,
     "metadata": {},
     "output_type": "execute_result"
    }
   ],
   "source": [
    "arr"
   ]
  },
  {
   "cell_type": "code",
   "execution_count": 7,
   "id": "3596844a-83f8-4215-9b4e-a419e08e7ee5",
   "metadata": {},
   "outputs": [
    {
     "name": "stdout",
     "output_type": "stream",
     "text": [
      "[1 2 3 4 5]\n"
     ]
    }
   ],
   "source": [
    "print(arr)"
   ]
  },
  {
   "cell_type": "code",
   "execution_count": 9,
   "id": "72d67caa-3eb7-4318-b2df-f6996f0ae3c4",
   "metadata": {},
   "outputs": [
    {
     "data": {
      "text/plain": [
       "(5,)"
      ]
     },
     "execution_count": 9,
     "metadata": {},
     "output_type": "execute_result"
    }
   ],
   "source": [
    "arr.shape"
   ]
  },
  {
   "cell_type": "code",
   "execution_count": 17,
   "id": "8bb83b08-74f3-41f7-a88b-36301209a927",
   "metadata": {},
   "outputs": [],
   "source": [
    "my_lst1=[1,2,3,4,5]\n",
    "my_lst2=[2,3,4,5,6]\n",
    "my_lst3=[9,7,6,6,9]\n",
    "\n",
    "arr=np.array([my_lst1,my_lst2,my_lst3])"
   ]
  },
  {
   "cell_type": "code",
   "execution_count": 19,
   "id": "fffc73b5-4d59-4ef6-bed4-208e55935535",
   "metadata": {},
   "outputs": [
    {
     "data": {
      "text/plain": [
       "array([[1, 2, 3, 4, 5],\n",
       "       [2, 3, 4, 5, 6],\n",
       "       [9, 7, 6, 6, 9]])"
      ]
     },
     "execution_count": 19,
     "metadata": {},
     "output_type": "execute_result"
    }
   ],
   "source": [
    "arr"
   ]
  },
  {
   "cell_type": "code",
   "execution_count": 21,
   "id": "c4a10b0d-bd08-413a-89d7-152b9a6b1f42",
   "metadata": {},
   "outputs": [
    {
     "data": {
      "text/plain": [
       "(3, 5)"
      ]
     },
     "execution_count": 21,
     "metadata": {},
     "output_type": "execute_result"
    }
   ],
   "source": [
    "arr.shape"
   ]
  },
  {
   "cell_type": "code",
   "execution_count": 23,
   "id": "041d60f7-9c75-460a-99ac-4229b893fb3f",
   "metadata": {},
   "outputs": [
    {
     "data": {
      "text/plain": [
       "array([[1, 2, 3],\n",
       "       [4, 5, 2],\n",
       "       [3, 4, 5],\n",
       "       [6, 9, 7],\n",
       "       [6, 6, 9]])"
      ]
     },
     "execution_count": 23,
     "metadata": {},
     "output_type": "execute_result"
    }
   ],
   "source": [
    "arr.reshape(5,3)"
   ]
  },
  {
   "cell_type": "code",
   "execution_count": 25,
   "id": "214438f5-47fc-4745-9c7a-4577ee2ca379",
   "metadata": {},
   "outputs": [
    {
     "data": {
      "text/plain": [
       "array([[1, 2, 3, 4, 5],\n",
       "       [2, 3, 4, 5, 6],\n",
       "       [9, 7, 6, 6, 9]])"
      ]
     },
     "execution_count": 25,
     "metadata": {},
     "output_type": "execute_result"
    }
   ],
   "source": [
    "arr"
   ]
  },
  {
   "cell_type": "code",
   "execution_count": 27,
   "id": "4188c798-3c55-4ff4-9b46-ecf5cb7a0a97",
   "metadata": {},
   "outputs": [
    {
     "data": {
      "text/plain": [
       "array([[1, 2, 3, 4, 5],\n",
       "       [2, 3, 4, 5, 6],\n",
       "       [9, 7, 6, 6, 9]])"
      ]
     },
     "execution_count": 27,
     "metadata": {},
     "output_type": "execute_result"
    }
   ],
   "source": [
    "arr[:,:]"
   ]
  },
  {
   "cell_type": "code",
   "execution_count": 29,
   "id": "5c914c46-37fc-4d80-a060-4ee0ba631f6c",
   "metadata": {},
   "outputs": [
    {
     "data": {
      "text/plain": [
       "array([[1, 2],\n",
       "       [2, 3]])"
      ]
     },
     "execution_count": 29,
     "metadata": {},
     "output_type": "execute_result"
    }
   ],
   "source": [
    "arr[0:2,0:2]"
   ]
  },
  {
   "cell_type": "code",
   "execution_count": 31,
   "id": "b57e1f51-1e9a-48d7-9de3-fbd5b90514b5",
   "metadata": {},
   "outputs": [
    {
     "data": {
      "text/plain": [
       "array([[4, 5],\n",
       "       [5, 6],\n",
       "       [6, 9]])"
      ]
     },
     "execution_count": 31,
     "metadata": {},
     "output_type": "execute_result"
    }
   ],
   "source": [
    "arr[:,3:]"
   ]
  },
  {
   "cell_type": "code",
   "execution_count": 33,
   "id": "da364643-3387-488f-b425-92c62692034e",
   "metadata": {},
   "outputs": [
    {
     "data": {
      "text/plain": [
       "array([[4, 5],\n",
       "       [6, 6]])"
      ]
     },
     "execution_count": 33,
     "metadata": {},
     "output_type": "execute_result"
    }
   ],
   "source": [
    "arr[1:,2:4]"
   ]
  },
  {
   "cell_type": "code",
   "execution_count": 43,
   "id": "e671bfa9-63dc-4bd7-a5ee-ab2b9a64b85b",
   "metadata": {},
   "outputs": [],
   "source": [
    "arr=np.arange(0,10)"
   ]
  },
  {
   "cell_type": "code",
   "execution_count": 45,
   "id": "a0b433a3-ed10-4fdc-9bde-39eed4694c2d",
   "metadata": {},
   "outputs": [
    {
     "data": {
      "text/plain": [
       "array([0, 1, 2, 3, 4, 5, 6, 7, 8, 9])"
      ]
     },
     "execution_count": 45,
     "metadata": {},
     "output_type": "execute_result"
    }
   ],
   "source": [
    "arr"
   ]
  },
  {
   "cell_type": "code",
   "execution_count": 47,
   "id": "2e157dc4-cab1-49ca-80b3-7d3234a3f07e",
   "metadata": {},
   "outputs": [],
   "source": [
    "arr=np.arange(0,10,step=2)"
   ]
  },
  {
   "cell_type": "code",
   "execution_count": 49,
   "id": "527d2848-e8a6-478b-86fa-dbb7a890ccc3",
   "metadata": {},
   "outputs": [
    {
     "data": {
      "text/plain": [
       "array([0, 2, 4, 6, 8])"
      ]
     },
     "execution_count": 49,
     "metadata": {},
     "output_type": "execute_result"
    }
   ],
   "source": [
    "arr"
   ]
  },
  {
   "cell_type": "code",
   "execution_count": 53,
   "id": "849daf59-27a1-4899-b742-3ac9bd191bab",
   "metadata": {},
   "outputs": [
    {
     "data": {
      "text/plain": [
       "array([ 1.        ,  1.18367347,  1.36734694,  1.55102041,  1.73469388,\n",
       "        1.91836735,  2.10204082,  2.28571429,  2.46938776,  2.65306122,\n",
       "        2.83673469,  3.02040816,  3.20408163,  3.3877551 ,  3.57142857,\n",
       "        3.75510204,  3.93877551,  4.12244898,  4.30612245,  4.48979592,\n",
       "        4.67346939,  4.85714286,  5.04081633,  5.2244898 ,  5.40816327,\n",
       "        5.59183673,  5.7755102 ,  5.95918367,  6.14285714,  6.32653061,\n",
       "        6.51020408,  6.69387755,  6.87755102,  7.06122449,  7.24489796,\n",
       "        7.42857143,  7.6122449 ,  7.79591837,  7.97959184,  8.16326531,\n",
       "        8.34693878,  8.53061224,  8.71428571,  8.89795918,  9.08163265,\n",
       "        9.26530612,  9.44897959,  9.63265306,  9.81632653, 10.        ])"
      ]
     },
     "execution_count": 53,
     "metadata": {},
     "output_type": "execute_result"
    }
   ],
   "source": [
    "np.linspace(1,10,50)"
   ]
  },
  {
   "cell_type": "code",
   "execution_count": 87,
   "id": "ebdf3a92-aeb2-4c8d-879f-44e1e67f57c5",
   "metadata": {},
   "outputs": [],
   "source": [
    "arr=np.arange(0,10)"
   ]
  },
  {
   "cell_type": "code",
   "execution_count": 89,
   "id": "394662a4-b167-4e25-a680-fd3dd0fae593",
   "metadata": {},
   "outputs": [
    {
     "data": {
      "text/plain": [
       "array([0, 1, 2, 3, 4, 5, 6, 7, 8, 9])"
      ]
     },
     "execution_count": 89,
     "metadata": {},
     "output_type": "execute_result"
    }
   ],
   "source": [
    "arr"
   ]
  },
  {
   "cell_type": "code",
   "execution_count": 91,
   "id": "993536d4-4c0b-47ed-b7a2-4257ded52838",
   "metadata": {},
   "outputs": [],
   "source": [
    "arr[3:]=100"
   ]
  },
  {
   "cell_type": "code",
   "execution_count": 93,
   "id": "302e3a17-65a5-48c3-ba2b-aba006287578",
   "metadata": {},
   "outputs": [
    {
     "data": {
      "text/plain": [
       "array([  0,   1,   2, 100, 100, 100, 100, 100, 100, 100])"
      ]
     },
     "execution_count": 93,
     "metadata": {},
     "output_type": "execute_result"
    }
   ],
   "source": [
    "arr"
   ]
  },
  {
   "cell_type": "code",
   "execution_count": 95,
   "id": "9d23d678-495c-46e4-b7f5-600db0f13e08",
   "metadata": {},
   "outputs": [],
   "source": [
    "arr1=arr"
   ]
  },
  {
   "cell_type": "code",
   "execution_count": 97,
   "id": "29dd64e6-ac03-42cd-8fa1-ce4365c2831d",
   "metadata": {},
   "outputs": [
    {
     "name": "stdout",
     "output_type": "stream",
     "text": [
      "[  0   1   2 500 500 500 500 500 500 500]\n"
     ]
    }
   ],
   "source": [
    "arr1[3:]=500\n",
    "print(arr1)"
   ]
  },
  {
   "cell_type": "code",
   "execution_count": 99,
   "id": "97829785-fad5-4fa8-a2d2-95299756cbec",
   "metadata": {},
   "outputs": [
    {
     "data": {
      "text/plain": [
       "array([  0,   1,   2, 500, 500, 500, 500, 500, 500, 500])"
      ]
     },
     "execution_count": 99,
     "metadata": {},
     "output_type": "execute_result"
    }
   ],
   "source": [
    "arr"
   ]
  },
  {
   "cell_type": "code",
   "execution_count": 105,
   "id": "c20ff362-5d48-4dde-83d1-7ce30c8bf333",
   "metadata": {},
   "outputs": [],
   "source": [
    "arr1=arr.copy()"
   ]
  },
  {
   "cell_type": "code",
   "execution_count": 107,
   "id": "ea2562b1-504e-4f6f-bb1d-b638820c1888",
   "metadata": {},
   "outputs": [
    {
     "name": "stdout",
     "output_type": "stream",
     "text": [
      "[  0   1   2 500 500 500 500 500 500 500]\n",
      "[   0    1    2 1000 1000 1000 1000 1000 1000 1000]\n"
     ]
    }
   ],
   "source": [
    "print(arr)\n",
    "arr1[3:]=1000\n",
    "print(arr1)"
   ]
  },
  {
   "cell_type": "code",
   "execution_count": 109,
   "id": "8df380cc-b3cb-40f4-8e0a-1242e8efeb2c",
   "metadata": {},
   "outputs": [
    {
     "data": {
      "text/plain": [
       "array([  0,   1,   2, 500, 500, 500, 500, 500, 500, 500])"
      ]
     },
     "execution_count": 109,
     "metadata": {},
     "output_type": "execute_result"
    }
   ],
   "source": [
    "arr"
   ]
  },
  {
   "cell_type": "code",
   "execution_count": 117,
   "id": "1432a335-430a-44d7-8064-ff2aca767846",
   "metadata": {},
   "outputs": [
    {
     "data": {
      "text/plain": [
       "array([0, 1, 2])"
      ]
     },
     "execution_count": 117,
     "metadata": {},
     "output_type": "execute_result"
    }
   ],
   "source": [
    "val=2\n",
    "arr[arr<300]"
   ]
  },
  {
   "cell_type": "code",
   "execution_count": 119,
   "id": "b5898092-f1f7-4afb-a169-730f6b726526",
   "metadata": {},
   "outputs": [
    {
     "data": {
      "text/plain": [
       "array([[0, 1],\n",
       "       [2, 3],\n",
       "       [4, 5],\n",
       "       [6, 7],\n",
       "       [8, 9]])"
      ]
     },
     "execution_count": 119,
     "metadata": {},
     "output_type": "execute_result"
    }
   ],
   "source": [
    "np.arange(0,10).reshape(5,2)"
   ]
  },
  {
   "cell_type": "code",
   "execution_count": 121,
   "id": "c694ae09-74ff-41cc-a143-b6d56971b9d8",
   "metadata": {},
   "outputs": [],
   "source": [
    "arr1=np.arange(0,10).reshape(2,5)"
   ]
  },
  {
   "cell_type": "code",
   "execution_count": 123,
   "id": "bd9066c4-33b8-457c-a02c-7cf586ca5eb5",
   "metadata": {},
   "outputs": [],
   "source": [
    "arr2=np.arange(0,10).reshape(2,5)"
   ]
  },
  {
   "cell_type": "code",
   "execution_count": 125,
   "id": "6d058ff7-b9f2-4399-b60a-5d8d894e8882",
   "metadata": {},
   "outputs": [
    {
     "data": {
      "text/plain": [
       "array([[ 0,  1,  4,  9, 16],\n",
       "       [25, 36, 49, 64, 81]])"
      ]
     },
     "execution_count": 125,
     "metadata": {},
     "output_type": "execute_result"
    }
   ],
   "source": [
    "arr1*arr2"
   ]
  },
  {
   "cell_type": "code",
   "execution_count": 131,
   "id": "3568160c-0a4c-40ea-a0fe-410970854781",
   "metadata": {},
   "outputs": [
    {
     "data": {
      "text/plain": [
       "array([1, 1, 1, 1])"
      ]
     },
     "execution_count": 131,
     "metadata": {},
     "output_type": "execute_result"
    }
   ],
   "source": [
    "np.ones(4,dtype=int)"
   ]
  },
  {
   "cell_type": "code",
   "execution_count": 133,
   "id": "3882dbe6-01fb-4024-8ee8-754136abc5e5",
   "metadata": {},
   "outputs": [
    {
     "data": {
      "text/plain": [
       "array([[1, 1, 1, 1, 1],\n",
       "       [1, 1, 1, 1, 1]])"
      ]
     },
     "execution_count": 133,
     "metadata": {},
     "output_type": "execute_result"
    }
   ],
   "source": [
    "np.ones((2,5),dtype=int)"
   ]
  },
  {
   "cell_type": "code",
   "execution_count": 135,
   "id": "e518bca7-df5a-4255-a356-c2afdf9cd10e",
   "metadata": {},
   "outputs": [
    {
     "data": {
      "text/plain": [
       "array([[0.54991529, 0.04066472, 0.16379737],\n",
       "       [0.69518629, 0.13337312, 0.81215662],\n",
       "       [0.17551819, 0.65663405, 0.46451064]])"
      ]
     },
     "execution_count": 135,
     "metadata": {},
     "output_type": "execute_result"
    }
   ],
   "source": [
    "np.random.rand(3,3)"
   ]
  },
  {
   "cell_type": "code",
   "execution_count": 137,
   "id": "4e83acf1-d42d-4636-93da-dd4c17014501",
   "metadata": {},
   "outputs": [],
   "source": [
    "arr_ex=np.random.randn(4,4)"
   ]
  },
  {
   "cell_type": "code",
   "execution_count": 139,
   "id": "58580de2-e31a-437b-8285-5eaa179cba68",
   "metadata": {},
   "outputs": [
    {
     "data": {
      "text/plain": [
       "array([[ 0.86218006, -0.08299339, -0.12802774, -0.05052438],\n",
       "       [ 0.03581002, -2.54178954, -0.39878667, -0.27621981],\n",
       "       [ 0.88883561, -0.28883968, -0.20583345,  0.19835409],\n",
       "       [-0.89054581, -0.73754916,  1.05364894, -0.25600271]])"
      ]
     },
     "execution_count": 139,
     "metadata": {},
     "output_type": "execute_result"
    }
   ],
   "source": [
    "arr_ex"
   ]
  },
  {
   "cell_type": "code",
   "execution_count": 149,
   "id": "617ca918-e775-437b-8f80-6eba3cb4e37f",
   "metadata": {},
   "outputs": [
    {
     "name": "stdout",
     "output_type": "stream",
     "text": [
      "Channels:\n",
      " - defaults\n",
      "Platform: win-64\n",
      "Collecting package metadata (repodata.json): ...working... done\n",
      "Solving environment: ...working... done\n",
      "\n",
      "# All requested packages already installed.\n",
      "\n",
      "\n",
      "Note: you may need to restart the kernel to use updated packages.\n"
     ]
    }
   ],
   "source": [
    "conda install pandas"
   ]
  },
  {
   "cell_type": "code",
   "execution_count": 7,
   "id": "656e19cd-d0d5-4d3f-b395-ad2231e08b72",
   "metadata": {},
   "outputs": [],
   "source": [
    "import seaborn as sns\n",
    "import pandas as pd\n",
    "import numpy as np"
   ]
  },
  {
   "cell_type": "code",
   "execution_count": 9,
   "id": "c4839ebe-c997-4fcb-ab96-b8eb2084dd66",
   "metadata": {},
   "outputs": [
    {
     "data": {
      "text/plain": [
       "array([[ 0.83033857,  1.06850126,  0.8592167 ,  0.36743298],\n",
       "       [-0.11366027, -1.28954955,  0.84666961,  0.01867546],\n",
       "       [ 0.57736468,  0.57335494, -0.99988017, -0.17546371],\n",
       "       [-0.34595812,  0.55951728, -0.69046244, -0.00137794]])"
      ]
     },
     "execution_count": 9,
     "metadata": {},
     "output_type": "execute_result"
    }
   ],
   "source": [
    "arr_ex=np.random.randn(4,4)\n",
    "arr_ex"
   ]
  },
  {
   "cell_type": "code",
   "execution_count": 11,
   "id": "1ba8404d-68be-41b0-8e01-15e532c35b0a",
   "metadata": {},
   "outputs": [
    {
     "name": "stderr",
     "output_type": "stream",
     "text": [
      "C:\\Users\\coderF\\AppData\\Local\\Temp\\ipykernel_17512\\1832295236.py:1: UserWarning: \n",
      "\n",
      "`distplot` is a deprecated function and will be removed in seaborn v0.14.0.\n",
      "\n",
      "Please adapt your code to use either `displot` (a figure-level function with\n",
      "similar flexibility) or `histplot` (an axes-level function for histograms).\n",
      "\n",
      "For a guide to updating your code to use the new functions, please see\n",
      "https://gist.github.com/mwaskom/de44147ed2974457ad6372750bbe5751\n",
      "\n",
      "  sns.distplot(pd.DataFrame(arr_ex.reshape(16,1)))\n"
     ]
    },
    {
     "data": {
      "text/plain": [
       "<Axes: ylabel='Density'>"
      ]
     },
     "execution_count": 11,
     "metadata": {},
     "output_type": "execute_result"
    },
    {
     "data": {
      "image/png": "[encoded data removed]",
      "text/plain": [
       "<Figure size 640x480 with 1 Axes>"
      ]
     },
     "metadata": {},
     "output_type": "display_data"
    }
   ],
   "source": [
    "sns.distplot(pd.DataFrame(arr_ex.reshape(16,1)))"
   ]
  },
  {
   "cell_type": "code",
   "execution_count": 15,
   "id": "f937c431-467e-49ba-a6a9-9614099ad613",
   "metadata": {},
   "outputs": [
    {
     "data": {
      "text/plain": [
       "array([[17, 84, 28, 90],\n",
       "       [67, 50, 55, 20]])"
      ]
     },
     "execution_count": 15,
     "metadata": {},
     "output_type": "execute_result"
    }
   ],
   "source": [
    "np.random.randint(0,100,8).reshape(2,4)"
   ]
  },
  {
   "cell_type": "code",
   "execution_count": 17,
   "id": "0dcdaec1-a3cd-4c33-88d6-b5f7a2a0b734",
   "metadata": {},
   "outputs": [
    {
     "data": {
      "text/plain": [
       "array([[0.31528624, 0.98373465, 0.66378972, 0.83216805, 0.94123868]])"
      ]
     },
     "execution_count": 17,
     "metadata": {},
     "output_type": "execute_result"
    }
   ],
   "source": [
    "np.random.random_sample((1,5))"
   ]
  },
  {
   "cell_type": "code",
   "execution_count": null,
   "id": "6282c784-4f95-4152-92cb-c92bc671b26f",
   "metadata": {},
   "outputs": [],
   "source": []
  }
 ],
 "metadata": {
  "kernelspec": {
   "display_name": "Python 3 (ipykernel)",
   "language": "python",
   "name": "py3_ipykernel"
  },
  "language_info": {
   "codemirror_mode": {
    "name": "ipython",
    "version": 3
   },
   "file_extension": ".py",
   "mimetype": "text/x-python",
   "name": "python",
   "nbconvert_exporter": "python",
   "pygments_lexer": "ipython3",
   "version": "3.12.8"
  }
 },
 "nbformat": 4,
 "nbformat_minor": 5
}
